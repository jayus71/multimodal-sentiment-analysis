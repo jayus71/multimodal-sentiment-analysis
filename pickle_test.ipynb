{
 "cells": [
  {
   "cell_type": "code",
   "execution_count": 1,
   "metadata": {
    "collapsed": true
   },
   "outputs": [],
   "source": [
    "import pickle"
   ]
  },
  {
   "cell_type": "code",
   "execution_count": 2,
   "metadata": {
    "collapsed": false
   },
   "outputs": [],
   "source": [
    "iem_file = open(\"dataset/iemocap/raw/IEMOCAP_features_raw.pkl\",'rb')\n",
    "iem_pkl = pickle.load(iem_file,encoding='latin1')"
   ]
  },
  {
   "cell_type": "markdown",
   "metadata": {
    "collapsed": false
   },
   "source": [
    "# 加载pickle文件\n",
    "输出类型及前十个键值对"
   ]
  },
  {
   "cell_type": "code",
   "execution_count": 3,
   "metadata": {
    "collapsed": false
   },
   "outputs": [
    {
     "name": "stdout",
     "output_type": "stream",
     "text": [
      "<class 'list'>\n"
     ]
    }
   ],
   "source": [
    "print(type(iem_pkl))"
   ]
  },
  {
   "cell_type": "code",
   "execution_count": 4,
   "metadata": {
    "collapsed": false
   },
   "outputs": [],
   "source": [
    "videoIDs, videoSpeakers, videoLabels, videoText, videoAudio, videoVisual, videoSentence, trainVid, testVid = pickle.load(\n",
    "    open(\"./dataset/iemocap/raw/IEMOCAP_features_raw.pkl\", 'rb'), encoding='latin1')"
   ]
  },
  {
   "cell_type": "code",
   "execution_count": 5,
   "metadata": {
    "collapsed": false
   },
   "outputs": [
    {
     "name": "stdout",
     "output_type": "stream",
     "text": [
      "<class 'dict'>\n"
     ]
    }
   ],
   "source": [
    "print(type(videoIDs))"
   ]
  },
  {
   "cell_type": "code",
   "execution_count": 6,
   "metadata": {
    "collapsed": false
   },
   "outputs": [
    {
     "name": "stdout",
     "output_type": "stream",
     "text": [
      "<class 'dict'>\n"
     ]
    }
   ],
   "source": [
    "print(type(videoSpeakers))"
   ]
  },
  {
   "cell_type": "code",
   "execution_count": 7,
   "metadata": {
    "collapsed": false
   },
   "outputs": [
    {
     "name": "stdout",
     "output_type": "stream",
     "text": [
      "Ses03M_impro08b ['Ses03M_impro08b_M000', 'Ses03M_impro08b_F001', 'Ses03M_impro08b_M001', 'Ses03M_impro08b_F002', 'Ses03M_impro08b_M002', 'Ses03M_impro08b_F003', 'Ses03M_impro08b_M003', 'Ses03M_impro08b_F004', 'Ses03M_impro08b_M004', 'Ses03M_impro08b_F005', 'Ses03M_impro08b_F006', 'Ses03M_impro08b_F007', 'Ses03M_impro08b_M005', 'Ses03M_impro08b_F008', 'Ses03M_impro08b_M006', 'Ses03M_impro08b_F009', 'Ses03M_impro08b_M007', 'Ses03M_impro08b_F010', 'Ses03M_impro08b_M008', 'Ses03M_impro08b_M009', 'Ses03M_impro08b_F011', 'Ses03M_impro08b_M010', 'Ses03M_impro08b_F012', 'Ses03M_impro08b_M011', 'Ses03M_impro08b_F013', 'Ses03M_impro08b_M012', 'Ses03M_impro08b_F014', 'Ses03M_impro08b_M013', 'Ses03M_impro08b_M014', 'Ses03M_impro08b_F015', 'Ses03M_impro08b_M015', 'Ses03M_impro08b_F016', 'Ses03M_impro08b_M016', 'Ses03M_impro08b_M017', 'Ses03M_impro08b_M018', 'Ses03M_impro08b_M019', 'Ses03M_impro08b_M020', 'Ses03M_impro08b_F021', 'Ses03M_impro08b_M021', 'Ses03M_impro08b_F023', 'Ses03M_impro08b_M022', 'Ses03M_impro08b_F024']\n",
      "Ses05M_impro02 ['Ses05M_impro02_M000', 'Ses05M_impro02_M001', 'Ses05M_impro02_M007', 'Ses05M_impro02_F006', 'Ses05M_impro02_M008', 'Ses05M_impro02_M010', 'Ses05M_impro02_M011', 'Ses05M_impro02_M012', 'Ses05M_impro02_F009', 'Ses05M_impro02_M013', 'Ses05M_impro02_F010', 'Ses05M_impro02_F012', 'Ses05M_impro02_M017', 'Ses05M_impro02_F013', 'Ses05M_impro02_M018', 'Ses05M_impro02_M019', 'Ses05M_impro02_M021', 'Ses05M_impro02_M022', 'Ses05M_impro02_M023', 'Ses05M_impro02_M024', 'Ses05M_impro02_M025', 'Ses05M_impro02_F020', 'Ses05M_impro02_M027', 'Ses05M_impro02_F021', 'Ses05M_impro02_M028', 'Ses05M_impro02_M029', 'Ses05M_impro02_M030', 'Ses05M_impro02_F023', 'Ses05M_impro02_F024']\n",
      "Ses05M_impro01 ['Ses05M_impro01_F000', 'Ses05M_impro01_F001', 'Ses05M_impro01_F002', 'Ses05M_impro01_F003', 'Ses05M_impro01_F004', 'Ses05M_impro01_M004', 'Ses05M_impro01_F005', 'Ses05M_impro01_M005', 'Ses05M_impro01_F006', 'Ses05M_impro01_M008', 'Ses05M_impro01_F007', 'Ses05M_impro01_M009', 'Ses05M_impro01_F008', 'Ses05M_impro01_F009', 'Ses05M_impro01_F010', 'Ses05M_impro01_M011', 'Ses05M_impro01_F011', 'Ses05M_impro01_F012', 'Ses05M_impro01_M012', 'Ses05M_impro01_F013', 'Ses05M_impro01_M013', 'Ses05M_impro01_F014', 'Ses05M_impro01_F015', 'Ses05M_impro01_M014', 'Ses05M_impro01_F016', 'Ses05M_impro01_M015', 'Ses05M_impro01_F017', 'Ses05M_impro01_F018', 'Ses05M_impro01_M016', 'Ses05M_impro01_F019', 'Ses05M_impro01_M017', 'Ses05M_impro01_F020', 'Ses05M_impro01_M018', 'Ses05M_impro01_F021', 'Ses05M_impro01_M019', 'Ses05M_impro01_M020', 'Ses05M_impro01_F022', 'Ses05M_impro01_M021', 'Ses05M_impro01_F023', 'Ses05M_impro01_M022']\n",
      "Ses03M_impro08a ['Ses03M_impro08a_M000', 'Ses03M_impro08a_F000', 'Ses03M_impro08a_M001', 'Ses03M_impro08a_F001', 'Ses03M_impro08a_F002', 'Ses03M_impro08a_F003', 'Ses03M_impro08a_M002', 'Ses03M_impro08a_F004', 'Ses03M_impro08a_M003', 'Ses03M_impro08a_F005', 'Ses03M_impro08a_M004', 'Ses03M_impro08a_F006', 'Ses03M_impro08a_M005', 'Ses03M_impro08a_F007', 'Ses03M_impro08a_M006', 'Ses03M_impro08a_F008', 'Ses03M_impro08a_F009', 'Ses03M_impro08a_M007', 'Ses03M_impro08a_M008', 'Ses03M_impro08a_F010', 'Ses03M_impro08a_M009', 'Ses03M_impro08a_F011', 'Ses03M_impro08a_M010', 'Ses03M_impro08a_F012', 'Ses03M_impro08a_F013', 'Ses03M_impro08a_M011', 'Ses03M_impro08a_F014', 'Ses03M_impro08a_F015', 'Ses03M_impro08a_M012', 'Ses03M_impro08a_F016', 'Ses03M_impro08a_M013', 'Ses03M_impro08a_F017', 'Ses03M_impro08a_F018', 'Ses03M_impro08a_M014', 'Ses03M_impro08a_M015', 'Ses03M_impro08a_F019', 'Ses03M_impro08a_M016', 'Ses03M_impro08a_F020', 'Ses03M_impro08a_F021', 'Ses03M_impro08a_M017', 'Ses03M_impro08a_M018', 'Ses03M_impro08a_F022', 'Ses03M_impro08a_F023', 'Ses03M_impro08a_M019', 'Ses03M_impro08a_F024', 'Ses03M_impro08a_F025', 'Ses03M_impro08a_M020', 'Ses03M_impro08a_M021', 'Ses03M_impro08a_F027', 'Ses03M_impro08a_M022', 'Ses03M_impro08a_F028', 'Ses03M_impro08a_M023', 'Ses03M_impro08a_F029', 'Ses03M_impro08a_F030', 'Ses03M_impro08a_M024', 'Ses03M_impro08a_F031', 'Ses03M_impro08a_F032', 'Ses03M_impro08a_M025', 'Ses03M_impro08a_F033', 'Ses03M_impro08a_M026', 'Ses03M_impro08a_F034', 'Ses03M_impro08a_M027', 'Ses03M_impro08a_F035']\n",
      "Ses05M_impro07 ['Ses05M_impro07_M000', 'Ses05M_impro07_F000', 'Ses05M_impro07_M001', 'Ses05M_impro07_F001', 'Ses05M_impro07_M002', 'Ses05M_impro07_F003', 'Ses05M_impro07_M003', 'Ses05M_impro07_F004', 'Ses05M_impro07_M004', 'Ses05M_impro07_F005', 'Ses05M_impro07_M005', 'Ses05M_impro07_M006', 'Ses05M_impro07_F007', 'Ses05M_impro07_M007', 'Ses05M_impro07_F008', 'Ses05M_impro07_M009', 'Ses05M_impro07_F009', 'Ses05M_impro07_F010', 'Ses05M_impro07_F011', 'Ses05M_impro07_M011', 'Ses05M_impro07_F012', 'Ses05M_impro07_M013', 'Ses05M_impro07_F013', 'Ses05M_impro07_M014', 'Ses05M_impro07_F015', 'Ses05M_impro07_M016', 'Ses05M_impro07_M017', 'Ses05M_impro07_F016', 'Ses05M_impro07_F017', 'Ses05M_impro07_M018', 'Ses05M_impro07_F018', 'Ses05M_impro07_M019', 'Ses05M_impro07_F019', 'Ses05M_impro07_M020', 'Ses05M_impro07_F020', 'Ses05M_impro07_M021', 'Ses05M_impro07_M022', 'Ses05M_impro07_F021', 'Ses05M_impro07_F022', 'Ses05M_impro07_M023', 'Ses05M_impro07_F023', 'Ses05M_impro07_M024', 'Ses05M_impro07_F024', 'Ses05M_impro07_M025', 'Ses05M_impro07_F025', 'Ses05M_impro07_M026', 'Ses05M_impro07_F026', 'Ses05M_impro07_F027', 'Ses05M_impro07_M028', 'Ses05M_impro07_F028', 'Ses05M_impro07_M029', 'Ses05M_impro07_F029', 'Ses05M_impro07_M030', 'Ses05M_impro07_F030', 'Ses05M_impro07_M031', 'Ses05M_impro07_F031', 'Ses05M_impro07_M032', 'Ses05M_impro07_M033', 'Ses05M_impro07_F032', 'Ses05M_impro07_M034', 'Ses05M_impro07_F033', 'Ses05M_impro07_M035', 'Ses05M_impro07_M036', 'Ses05M_impro07_F035', 'Ses05M_impro07_F036', 'Ses05M_impro07_M037', 'Ses05M_impro07_F037', 'Ses05M_impro07_F038', 'Ses05M_impro07_F039', 'Ses05M_impro07_M039', 'Ses05M_impro07_F040', 'Ses05M_impro07_M040', 'Ses05M_impro07_F041', 'Ses05M_impro07_M041', 'Ses05M_impro07_F042', 'Ses05M_impro07_M042', 'Ses05M_impro07_M043', 'Ses05M_impro07_M044', 'Ses05M_impro07_F044', 'Ses05M_impro07_M045', 'Ses05M_impro07_M046', 'Ses05M_impro07_F045', 'Ses05M_impro07_M047']\n",
      "Ses05M_impro06 ['Ses05M_impro06_M000', 'Ses05M_impro06_M001', 'Ses05M_impro06_F002', 'Ses05M_impro06_M002', 'Ses05M_impro06_F003', 'Ses05M_impro06_M003', 'Ses05M_impro06_M004', 'Ses05M_impro06_M005', 'Ses05M_impro06_F004', 'Ses05M_impro06_M006', 'Ses05M_impro06_M007', 'Ses05M_impro06_M008', 'Ses05M_impro06_F005', 'Ses05M_impro06_M009', 'Ses05M_impro06_M010', 'Ses05M_impro06_F006', 'Ses05M_impro06_M011', 'Ses05M_impro06_M012', 'Ses05M_impro06_M013', 'Ses05M_impro06_F007', 'Ses05M_impro06_M014', 'Ses05M_impro06_F008', 'Ses05M_impro06_M017', 'Ses05M_impro06_M018', 'Ses05M_impro06_F009', 'Ses05M_impro06_M019', 'Ses05M_impro06_F010', 'Ses05M_impro06_M020']\n",
      "Ses05M_impro05 ['Ses05M_impro05_M000', 'Ses05M_impro05_F000', 'Ses05M_impro05_M001', 'Ses05M_impro05_F001', 'Ses05M_impro05_M002', 'Ses05M_impro05_F002', 'Ses05M_impro05_M003', 'Ses05M_impro05_F003', 'Ses05M_impro05_M004', 'Ses05M_impro05_F004', 'Ses05M_impro05_M005', 'Ses05M_impro05_F005', 'Ses05M_impro05_M006', 'Ses05M_impro05_F006', 'Ses05M_impro05_M007', 'Ses05M_impro05_F007', 'Ses05M_impro05_M009', 'Ses05M_impro05_F008', 'Ses05M_impro05_M010', 'Ses05M_impro05_F009', 'Ses05M_impro05_F010', 'Ses05M_impro05_M012', 'Ses05M_impro05_F011', 'Ses05M_impro05_F012', 'Ses05M_impro05_M013', 'Ses05M_impro05_F013', 'Ses05M_impro05_M015', 'Ses05M_impro05_F014', 'Ses05M_impro05_M016', 'Ses05M_impro05_F015', 'Ses05M_impro05_F016', 'Ses05M_impro05_M017', 'Ses05M_impro05_F017', 'Ses05M_impro05_M018', 'Ses05M_impro05_F018', 'Ses05M_impro05_M019', 'Ses05M_impro05_F019', 'Ses05M_impro05_M020', 'Ses05M_impro05_F020', 'Ses05M_impro05_M021', 'Ses05M_impro05_F021', 'Ses05M_impro05_M022']\n",
      "Ses05M_impro04 ['Ses05M_impro04_M000', 'Ses05M_impro04_M001', 'Ses05M_impro04_F001', 'Ses05M_impro04_M002', 'Ses05M_impro04_F002', 'Ses05M_impro04_M003', 'Ses05M_impro04_F003', 'Ses05M_impro04_M004', 'Ses05M_impro04_M005', 'Ses05M_impro04_F004', 'Ses05M_impro04_M006', 'Ses05M_impro04_M007', 'Ses05M_impro04_F005', 'Ses05M_impro04_M008', 'Ses05M_impro04_F006', 'Ses05M_impro04_M009', 'Ses05M_impro04_M010', 'Ses05M_impro04_M011', 'Ses05M_impro04_F007', 'Ses05M_impro04_M012', 'Ses05M_impro04_M013', 'Ses05M_impro04_F008', 'Ses05M_impro04_M014', 'Ses05M_impro04_M015', 'Ses05M_impro04_F009', 'Ses05M_impro04_F010', 'Ses05M_impro04_M016', 'Ses05M_impro04_F011', 'Ses05M_impro04_M017', 'Ses05M_impro04_F012', 'Ses05M_impro04_F013', 'Ses05M_impro04_F014', 'Ses05M_impro04_M019', 'Ses05M_impro04_F015', 'Ses05M_impro04_M020', 'Ses05M_impro04_F016', 'Ses05M_impro04_F017', 'Ses05M_impro04_M022', 'Ses05M_impro04_F018', 'Ses05M_impro04_M023', 'Ses05M_impro04_F019', 'Ses05M_impro04_F020', 'Ses05M_impro04_M024', 'Ses05M_impro04_F021', 'Ses05M_impro04_F022', 'Ses05M_impro04_M025', 'Ses05M_impro04_F023', 'Ses05M_impro04_F024', 'Ses05M_impro04_M026', 'Ses05M_impro04_M027', 'Ses05M_impro04_F026', 'Ses05M_impro04_M028', 'Ses05M_impro04_F027', 'Ses05M_impro04_M029', 'Ses05M_impro04_F028', 'Ses05M_impro04_M030', 'Ses05M_impro04_F029', 'Ses05M_impro04_M031', 'Ses05M_impro04_F030', 'Ses05M_impro04_M032', 'Ses05M_impro04_F031', 'Ses05M_impro04_M033', 'Ses05M_impro04_F032', 'Ses05M_impro04_M034', 'Ses05M_impro04_F033', 'Ses05M_impro04_M035', 'Ses05M_impro04_F034', 'Ses05M_impro04_F035', 'Ses05M_impro04_M037', 'Ses05M_impro04_F036', 'Ses05M_impro04_M038', 'Ses05M_impro04_F037', 'Ses05M_impro04_M039', 'Ses05M_impro04_M040', 'Ses05M_impro04_M041']\n",
      "Ses01M_script03_1 ['Ses01M_script03_1_F003', 'Ses01M_script03_1_M004', 'Ses01M_script03_1_F004', 'Ses01M_script03_1_F007', 'Ses01M_script03_1_F008', 'Ses01M_script03_1_M010', 'Ses01M_script03_1_F009', 'Ses01M_script03_1_M011', 'Ses01M_script03_1_F010', 'Ses01M_script03_1_M012', 'Ses01M_script03_1_F011', 'Ses01M_script03_1_M013', 'Ses01M_script03_1_M014', 'Ses01M_script03_1_F014', 'Ses01M_script03_1_M016', 'Ses01M_script03_1_F015', 'Ses01M_script03_1_M017', 'Ses01M_script03_1_M019', 'Ses01M_script03_1_F017', 'Ses01M_script03_1_F018', 'Ses01M_script03_1_M021', 'Ses01M_script03_1_M022', 'Ses01M_script03_1_F019', 'Ses01M_script03_1_F021', 'Ses01M_script03_1_F024', 'Ses01M_script03_1_M028', 'Ses01M_script03_1_M029', 'Ses01M_script03_1_M030', 'Ses01M_script03_1_M031', 'Ses01M_script03_1_M033', 'Ses01M_script03_1_F030', 'Ses01M_script03_1_F031', 'Ses01M_script03_1_M037', 'Ses01M_script03_1_F034', 'Ses01M_script03_1_F036', 'Ses01M_script03_1_M039', 'Ses01M_script03_1_F037', 'Ses01M_script03_1_M040', 'Ses01M_script03_1_F038', 'Ses01M_script03_1_F039', 'Ses01M_script03_1_M041', 'Ses01M_script03_1_F040', 'Ses01M_script03_1_F041']\n",
      "Ses01M_script03_2 ['Ses01M_script03_2_F006', 'Ses01M_script03_2_F010', 'Ses01M_script03_2_M012', 'Ses01M_script03_2_F011', 'Ses01M_script03_2_M013', 'Ses01M_script03_2_M016', 'Ses01M_script03_2_F015', 'Ses01M_script03_2_M017', 'Ses01M_script03_2_M018', 'Ses01M_script03_2_F017', 'Ses01M_script03_2_M022', 'Ses01M_script03_2_M023', 'Ses01M_script03_2_M024', 'Ses01M_script03_2_F022', 'Ses01M_script03_2_F023', 'Ses01M_script03_2_M025', 'Ses01M_script03_2_F024', 'Ses01M_script03_2_M026', 'Ses01M_script03_2_F025', 'Ses01M_script03_2_M027', 'Ses01M_script03_2_F026', 'Ses01M_script03_2_M028', 'Ses01M_script03_2_F027', 'Ses01M_script03_2_M029', 'Ses01M_script03_2_F028', 'Ses01M_script03_2_M030', 'Ses01M_script03_2_F029', 'Ses01M_script03_2_F030', 'Ses01M_script03_2_M031', 'Ses01M_script03_2_M032', 'Ses01M_script03_2_F031', 'Ses01M_script03_2_M033', 'Ses01M_script03_2_F033', 'Ses01M_script03_2_M034', 'Ses01M_script03_2_F034', 'Ses01M_script03_2_M035', 'Ses01M_script03_2_F035', 'Ses01M_script03_2_M036', 'Ses01M_script03_2_F036', 'Ses01M_script03_2_M037', 'Ses01M_script03_2_F037', 'Ses01M_script03_2_M038', 'Ses01M_script03_2_F038', 'Ses01M_script03_2_M039', 'Ses01M_script03_2_F039', 'Ses01M_script03_2_M040', 'Ses01M_script03_2_F040', 'Ses01M_script03_2_M041', 'Ses01M_script03_2_F041', 'Ses01M_script03_2_M042', 'Ses01M_script03_2_M043']\n"
     ]
    }
   ],
   "source": [
    "for i, (k, v) in enumerate(videoIDs.items()):   # 读取字典中前十个键值对\n",
    "    if i in range(0, 10):\n",
    "        print(k, v)"
   ]
  },
  {
   "cell_type": "code",
   "execution_count": 8,
   "metadata": {
    "collapsed": false
   },
   "outputs": [
    {
     "name": "stdout",
     "output_type": "stream",
     "text": [
      "Ses03M_impro08b [2, 5, 2, 5, 2, 5, 2, 5, 2, 3, 3, 5, 2, 5, 2, 5, 2, 5, 2, 2, 5, 2, 5, 2, 5, 2, 5, 2, 2, 5, 2, 5, 2, 2, 2, 2, 2, 2, 2, 2, 2, 2]\n",
      "Ses05M_impro02 [1, 1, 1, 5, 5, 1, 1, 1, 5, 1, 5, 2, 5, 1, 1, 1, 1, 1, 1, 1, 1, 1, 1, 1, 1, 1, 4, 1, 1]\n",
      "Ses05M_impro01 [2, 2, 2, 2, 2, 5, 5, 3, 2, 5, 5, 5, 5, 2, 5, 5, 5, 2, 5, 5, 5, 5, 5, 5, 5, 3, 5, 5, 5, 5, 5, 5, 5, 3, 5, 5, 5, 5, 3, 5]\n",
      "Ses03M_impro08a [2, 5, 2, 5, 5, 5, 2, 2, 2, 5, 2, 5, 2, 5, 2, 5, 5, 2, 2, 5, 2, 5, 2, 5, 3, 5, 3, 3, 2, 5, 2, 5, 5, 5, 5, 5, 2, 3, 3, 2, 2, 3, 5, 2, 5, 5, 2, 2, 5, 2, 5, 2, 5, 5, 2, 5, 5, 2, 5, 2, 5, 2, 5]\n",
      "Ses05M_impro07 [4, 4, 4, 4, 4, 4, 4, 0, 4, 0, 4, 4, 0, 4, 0, 0, 4, 2, 4, 4, 4, 4, 0, 4, 4, 4, 4, 2, 2, 4, 2, 4, 2, 4, 2, 4, 4, 4, 4, 4, 0, 4, 2, 4, 2, 4, 2, 2, 4, 2, 4, 2, 4, 2, 4, 0, 4, 4, 2, 4, 2, 4, 4, 0, 0, 4, 4, 2, 0, 0, 2, 4, 4, 4, 4, 4, 4, 4, 4, 4, 0, 0, 4]\n",
      "Ses05M_impro06 [1, 1, 1, 1, 1, 1, 1, 1, 1, 1, 1, 1, 1, 1, 1, 1, 1, 1, 1, 1, 1, 1, 1, 1, 1, 1, 1, 1]\n",
      "Ses05M_impro05 [2, 2, 2, 2, 2, 2, 2, 2, 2, 2, 2, 2, 2, 2, 2, 2, 2, 2, 2, 2, 2, 5, 2, 2, 5, 2, 5, 2, 5, 2, 2, 5, 2, 5, 2, 5, 2, 5, 2, 5, 2, 2]\n",
      "Ses05M_impro04 [5, 5, 2, 5, 2, 5, 2, 5, 5, 2, 5, 5, 2, 2, 2, 2, 2, 5, 2, 5, 5, 2, 5, 5, 2, 2, 5, 2, 5, 2, 2, 2, 3, 2, 3, 2, 2, 5, 2, 5, 2, 2, 5, 2, 2, 5, 2, 2, 5, 5, 2, 5, 2, 5, 2, 5, 2, 5, 2, 5, 2, 5, 2, 5, 5, 5, 2, 2, 5, 2, 5, 2, 5, 3, 1]\n",
      "Ses01M_script03_1 [0, 0, 0, 4, 0, 0, 0, 0, 0, 0, 0, 0, 1, 0, 0, 0, 0, 0, 0, 0, 0, 0, 0, 0, 0, 4, 4, 0, 0, 0, 0, 4, 4, 0, 0, 0, 0, 0, 0, 0, 0, 0, 4]\n",
      "Ses01M_script03_2 [2, 2, 2, 3, 2, 5, 3, 5, 2, 3, 3, 3, 3, 3, 3, 3, 3, 3, 3, 3, 3, 3, 3, 3, 3, 3, 3, 3, 3, 3, 3, 3, 3, 3, 3, 3, 3, 3, 3, 3, 3, 3, 3, 3, 3, 3, 3, 3, 3, 3, 3]\n"
     ]
    }
   ],
   "source": [
    "for i, (k, v) in enumerate(videoLabels.items()):   # 读取字典中前十个键值对\n",
    "    if i in range(0, 10):\n",
    "        print(k, v)"
   ]
  },
  {
   "cell_type": "code",
   "execution_count": 12,
   "metadata": {
    "collapsed": false
   },
   "outputs": [
    {
     "name": "stdout",
     "output_type": "stream",
     "text": [
      "Ses03M_impro08b [0.02650035 0.         0.         0.00356716 0.         0.02307457\n",
      " 0.         0.0261246  0.04010297 0.        ]\n",
      "Ses05M_impro02 [0.02318615 0.         0.         0.04402734 0.         0.\n",
      " 0.         0.         0.06462811 0.        ]\n",
      "Ses05M_impro01 [0.         0.         0.         0.0236123  0.         0.02018579\n",
      " 0.         0.00246213 0.03963631 0.        ]\n",
      "Ses03M_impro08a [0.00582189 0.02640322 0.         0.01526876 0.         0.\n",
      " 0.         0.0306493  0.02405101 0.        ]\n",
      "Ses05M_impro07 [0.         0.00287711 0.         0.04336517 0.         0.\n",
      " 0.         0.00164743 0.09397711 0.        ]\n",
      "Ses05M_impro06 [0.00448358 0.         0.         0.02218638 0.         0.\n",
      " 0.         0.02610607 0.07927367 0.        ]\n",
      "Ses05M_impro05 [0.         0.         0.         0.01326449 0.         0.\n",
      " 0.         0.00107435 0.03043998 0.        ]\n",
      "Ses05M_impro04 [0.00606685 0.         0.         0.03747934 0.         0.\n",
      " 0.         0.02183521 0.06123163 0.        ]\n",
      "Ses01M_script03_1 [0.         0.         0.         0.07462743 0.         0.\n",
      " 0.         0.         0.11442803 0.        ]\n",
      "Ses01M_script03_2 [0.         0.         0.         0.04967902 0.         0.\n",
      " 0.         0.         0.0378005  0.        ]\n"
     ]
    }
   ],
   "source": [
    "for i, (k, v) in enumerate(videoVisual.items()):   # 读取字典中前十个键值对\n",
    "    if i in range(0, 10):\n",
    "        print(k, v[0][0:10])"
   ]
  },
  {
   "cell_type": "code",
   "execution_count": null,
   "metadata": {},
   "outputs": [],
   "source": []
  }
 ],
 "metadata": {
  "kernelspec": {
   "display_name": "Python 3",
   "language": "python",
   "name": "python3"
  },
  "language_info": {
   "codemirror_mode": {
    "name": "ipython",
    "version": 3
   },
   "file_extension": ".py",
   "mimetype": "text/x-python",
   "name": "python",
   "nbconvert_exporter": "python",
   "pygments_lexer": "ipython3",
   "version": "3.7.9"
  }
 },
 "nbformat": 4,
 "nbformat_minor": 0
}
